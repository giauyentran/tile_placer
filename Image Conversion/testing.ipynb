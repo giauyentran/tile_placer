{
 "cells": [
  {
   "cell_type": "code",
   "execution_count": 2,
   "outputs": [
    {
     "ename": "ModuleNotFoundError",
     "evalue": "No module named 'cv2'",
     "output_type": "error",
     "traceback": [
      "\u001B[1;31m---------------------------------------------------------------------------\u001B[0m",
      "\u001B[1;31mModuleNotFoundError\u001B[0m                       Traceback (most recent call last)",
      "Cell \u001B[1;32mIn[2], line 1\u001B[0m\n\u001B[1;32m----> 1\u001B[0m \u001B[38;5;28;01mfrom\u001B[39;00m \u001B[38;5;21;01mimage_processing\u001B[39;00m \u001B[38;5;28;01mimport\u001B[39;00m convert_image\n\u001B[0;32m      2\u001B[0m \u001B[38;5;66;03m#from gcode_convert import *\u001B[39;00m\n\u001B[0;32m      3\u001B[0m \u001B[38;5;28;01mimport\u001B[39;00m \u001B[38;5;21;01msys\u001B[39;00m\n",
      "File \u001B[1;32m~\\Documents\\GitHub\\tile_placer\\image_processing\\convert_image.py:4\u001B[0m\n\u001B[0;32m      2\u001B[0m \u001B[38;5;28;01mimport\u001B[39;00m \u001B[38;5;21;01mnumpy\u001B[39;00m \u001B[38;5;28;01mas\u001B[39;00m \u001B[38;5;21;01mnp\u001B[39;00m\n\u001B[0;32m      3\u001B[0m \u001B[38;5;28;01mfrom\u001B[39;00m \u001B[38;5;21;01mnumpy\u001B[39;00m \u001B[38;5;28;01mimport\u001B[39;00m asarray\n\u001B[1;32m----> 4\u001B[0m \u001B[38;5;28;01mimport\u001B[39;00m \u001B[38;5;21;01mcv2\u001B[39;00m\n\u001B[0;32m      6\u001B[0m \u001B[38;5;28;01mdef\u001B[39;00m \u001B[38;5;21mimage_to_array\u001B[39m(image_path):\n\u001B[0;32m      7\u001B[0m \n\u001B[0;32m      8\u001B[0m     \u001B[38;5;66;03m# convert to grayscale\u001B[39;00m\n\u001B[0;32m      9\u001B[0m     img_og \u001B[38;5;241m=\u001B[39m Image\u001B[38;5;241m.\u001B[39mopen(image_path)\n",
      "\u001B[1;31mModuleNotFoundError\u001B[0m: No module named 'cv2'"
     ]
    }
   ],
   "source": [
    "from image_processing import convert_image\n",
    "#from gcode_convert import *\n",
    "import sys"
   ],
   "metadata": {
    "collapsed": false
   }
  },
  {
   "cell_type": "code",
   "execution_count": 2,
   "outputs": [
    {
     "ename": "ValueError",
     "evalue": "assignment destination is read-only",
     "output_type": "error",
     "traceback": [
      "\u001B[1;31m---------------------------------------------------------------------------\u001B[0m",
      "\u001B[1;31mValueError\u001B[0m                                Traceback (most recent call last)",
      "Cell \u001B[1;32mIn[2], line 3\u001B[0m\n\u001B[0;32m      1\u001B[0m bulk_of_path \u001B[38;5;241m=\u001B[39m \u001B[38;5;124mR\u001B[39m\u001B[38;5;124m\"\u001B[39m\u001B[38;5;124mC:\u001B[39m\u001B[38;5;124m\\\u001B[39m\u001B[38;5;124mUsers\u001B[39m\u001B[38;5;124m\\\u001B[39m\u001B[38;5;124mjbrown\u001B[39m\u001B[38;5;124m\\\u001B[39m\u001B[38;5;124mDocuments\u001B[39m\u001B[38;5;124m\\\u001B[39m\u001B[38;5;124mGitHub\u001B[39m\u001B[38;5;124m\\\u001B[39m\u001B[38;5;124mtile_placer\u001B[39m\u001B[38;5;124m\\\u001B[39m\u001B[38;5;124mImage Conversion\u001B[39m\u001B[38;5;124m\\\u001B[39m\u001B[38;5;124mtest_images\u001B[39m\u001B[38;5;124m\"\u001B[39m\n\u001B[0;32m      2\u001B[0m \u001B[38;5;28mstr\u001B[39m \u001B[38;5;241m=\u001B[39m bulk_of_path \u001B[38;5;241m+\u001B[39m \u001B[38;5;124mr\u001B[39m\u001B[38;5;124m'\u001B[39m\u001B[38;5;124m\\\u001B[39m\u001B[38;5;124mU.png\u001B[39m\u001B[38;5;124m'\u001B[39m\n\u001B[1;32m----> 3\u001B[0m \u001B[43mconvert_image\u001B[49m\u001B[38;5;241;43m.\u001B[39;49m\u001B[43mimage_to_array\u001B[49m\u001B[43m(\u001B[49m\u001B[38;5;28;43mstr\u001B[39;49m\u001B[43m)\u001B[49m\n",
      "File \u001B[1;32m~\\Documents\\GitHub\\tile_placer\\image_processing\\convert_image.py:30\u001B[0m, in \u001B[0;36mimage_to_array\u001B[1;34m(image_path)\u001B[0m\n\u001B[0;32m     28\u001B[0m             img_array[i][j] \u001B[38;5;241m=\u001B[39m \u001B[38;5;241m1\u001B[39m\n\u001B[0;32m     29\u001B[0m         \u001B[38;5;28;01melse\u001B[39;00m:\n\u001B[1;32m---> 30\u001B[0m             \u001B[43mimg_array\u001B[49m\u001B[43m[\u001B[49m\u001B[43mi\u001B[49m\u001B[43m]\u001B[49m\u001B[43m[\u001B[49m\u001B[43mj\u001B[49m\u001B[43m]\u001B[49m \u001B[38;5;241m=\u001B[39m \u001B[38;5;241m0\u001B[39m\n\u001B[0;32m     32\u001B[0m \u001B[38;5;66;03m# convert array into binary array\u001B[39;00m\n\u001B[0;32m     33\u001B[0m binary_img \u001B[38;5;241m=\u001B[39m Image\u001B[38;5;241m.\u001B[39mfromarray(img_array \u001B[38;5;241m*\u001B[39m \u001B[38;5;241m255\u001B[39m , \u001B[38;5;124m'\u001B[39m\u001B[38;5;124mL\u001B[39m\u001B[38;5;124m'\u001B[39m)\n",
      "\u001B[1;31mValueError\u001B[0m: assignment destination is read-only"
     ]
    }
   ],
   "source": [
    "bulk_of_path = R\"C:\\Users\\jbrown\\Documents\\GitHub\\tile_placer\\Image Conversion\\test_images\"\n",
    "str = bulk_of_path + r'\\U.png'\n",
    "convert_image.image_to_array_cv2(str)"
   ],
   "metadata": {
    "collapsed": false
   }
  },
  {
   "cell_type": "code",
   "execution_count": 5,
   "outputs": [],
   "source": [
    "bulk_of_path = R\"C:\\Users\\jbrown\\Documents\\GitHub\\tile_placer\\Image Conversion\\test_images\"\n",
    "# Insert the path of modules folder\n",
    "sys.path.append(bulk_of_path)\n",
    "import convert_image"
   ],
   "metadata": {
    "collapsed": false
   }
  },
  {
   "cell_type": "code",
   "execution_count": null,
   "outputs": [],
   "source": [
    "\n",
    "# Import the module0 directly since\n",
    "# the current path is of modules.\n",
    "import module0\n",
    "\n",
    "storage_width = 100          # mm\n",
    "dist_between_tiles = 5      # mm\n",
    "tile_width = 75             # mm\n",
    "flipper_drop_height = 96    # mm\n",
    "tile_pickup_height = 3.4      # mm\n",
    "flipper_pickup_height = 6  # mm\n",
    "flipper_pickup_pos = (60,150)     # mm\n",
    "flipper_drop_pos = (flipper_pickup_pos[0] - 40, flipper_pickup_pos[1])       # mm\n",
    "travel_height = 30         # mm\n",
    "default_speed = 200         # RPM\n",
    "image_dimensions = [18, 24]\n",
    "image_paths = [bulk_of_path + r'\\U.png']\n",
    "def get_coord(tile_index):\n",
    "    '''\n",
    "    Converts tile index to gantry coordinates.\n",
    "\n",
    "    Args:\n",
    "        tile_index\n",
    "\n",
    "    Returns a 2-tuple with corresponding to (x,y) in the gantry space.\n",
    "    '''\n",
    "    t_x = tile_index[0]\n",
    "    t_y = tile_index[1]\n",
    "    x = (storage_width - (tile_width/2)) + (dist_between_tiles + tile_width)*t_x\n",
    "    y = (storage_width - (tile_width/2)) + (dist_between_tiles + tile_width)*t_y\n",
    "\n",
    "    return (x,y)\n",
    "\n",
    "def place_empty_grid(image_array, text_file):\n",
    "    '''\n",
    "    TODO: determine how to do this\n",
    "\n",
    "    Places an empty grid, the starting \"image\".\n",
    "\n",
    "    Args:\n",
    "        image_array: a 2D binary array with each value representing a pixel\n",
    "    '''\n",
    "\n",
    "    for r in range(len(image_array)):\n",
    "        for c in range(len(image_array[r])):\n",
    "            tile_index = (r+1,c+1)\n",
    "            coords = get_coord(tile_index)\n",
    "\n",
    "            # GCode command\n",
    "            text_file.write(gcode_move_z(travel_height))\n",
    "            text_file.write(f\"G1 X{coords[0]} Y{coords[1]}\\n\")\n",
    "    pass\n",
    "\n",
    "\n",
    "def update_grid(previous_image, updated_image):\n",
    "    '''\n",
    "    Change image displayed on grid\n",
    "\n",
    "    Args:\n",
    "        previous_image: a 2D binary array representing the image to be replaced\n",
    "        updated_image: a 2D binary array representing the image to be plotted\n",
    "    '''\n",
    "    for r in range(len(previous_image)):\n",
    "        for c in range(len(previous_image[r])):\n",
    "            if previous_image[r][c] != updated_image[r][c]:\n",
    "                flip_tile((r+1,c+1), text_file)\n",
    "\n",
    "def generate_all_images(image_paths):\n",
    "    for i in range(0, len(image_paths)):\n",
    "        img1 = convert_image(image_paths[i])\n",
    "        img2 = convert_image(image_paths[i+1])\n",
    "        update_grid(img1, img2)\n",
    "\n",
    "def flip_tile(tile_index, text_file):\n",
    "    '''\n",
    "    Generate Gcode to flip tile and place.\n",
    "\n",
    "    Args:\n",
    "        tile_index: the position of the tile in the grid, with the lower left corner starting at (1,1)\n",
    "        text_file: a string denoting the filepath of the .txt file with Gcode commands\n",
    "    '''\n",
    "\n",
    "    text_file.write(f\"G1 Z{travel_height}\\n\")\n",
    "    tile_coords = get_coord(tile_index)\n",
    "\n",
    "    # pick up to tile to flip\n",
    "    text_file.write(gcode_pump(\"ON\"))\n",
    "    text_file.write(gcode_move_xy(tile_coords))\n",
    "    text_file.write(gcode_move_z(tile_pickup_height))\n",
    "\n",
    "    # drop tile into flipper\n",
    "    text_file.write(gcode_move_z(flipper_drop_height))\n",
    "    text_file.write(gcode_move_xy(flipper_drop_pos))\n",
    "    text_file.write(gcode_pump(\"OFF\"))\n",
    "    text_file.write(\"G4 P8000 \\n\")\n",
    "    text_file.write(gcode_pump(\"ON\"))\n",
    "\n",
    "    # pick up tile\n",
    "    text_file.write(gcode_move_xy(flipper_pickup_pos))\n",
    "    text_file.write(gcode_move_z(flipper_pickup_height))\n",
    "\n",
    "    # place flipped tile\n",
    "    text_file.write(gcode_move_z(travel_height))\n",
    "    text_file.write(gcode_move_xy(tile_coords))\n",
    "    text_file.write(gcode_move_z(tile_pickup_height))\n",
    "\n",
    "    # turn off vacuum pump\n",
    "    text_file.write(gcode_pump(\"OFF\"))\n",
    "    text_file.write(\"G4 P8000 \\n\")\n",
    "\n",
    "# initial_image = [([0]*image_dimensions[1]) for i in range(image_dimensions[0])]\n",
    "initial_image = [[0,0],[0,0]]\n",
    "test_image = [[0,1],[1,0]]\n",
    "# test_image = convert_image()\n",
    "\n",
    "\n",
    "# Generate Gcode\n",
    "text_file = open(\"GCode/gcode_commands.txt\", \"w\")\n",
    "text_file.write(\"G90 \\n\")\n",
    "text_file.write(\"G1 F12000 \\n\")\n",
    "text_file.write(gcode_pump(\"ON\"))\n",
    "place_empty_grid(initial_image, text_file)\n",
    "update_grid(initial_image, test_image)\n",
    "text_file.close()\n"
   ],
   "metadata": {
    "collapsed": false
   }
  }
 ],
 "metadata": {
  "kernelspec": {
   "display_name": "Python 3",
   "language": "python",
   "name": "python3"
  },
  "language_info": {
   "codemirror_mode": {
    "name": "ipython",
    "version": 2
   },
   "file_extension": ".py",
   "mimetype": "text/x-python",
   "name": "python",
   "nbconvert_exporter": "python",
   "pygments_lexer": "ipython2",
   "version": "2.7.6"
  }
 },
 "nbformat": 4,
 "nbformat_minor": 0
}
